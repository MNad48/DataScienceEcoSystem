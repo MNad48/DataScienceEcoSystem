{
  "metadata": {
    "language_info": {
      "codemirror_mode": {
        "name": "python",
        "version": 3
      },
      "file_extension": ".py",
      "mimetype": "text/x-python",
      "name": "python",
      "nbconvert_exporter": "python",
      "pygments_lexer": "ipython3",
      "version": "3.8"
    },
    "kernelspec": {
      "name": "python",
      "display_name": "Python (Pyodide)",
      "language": "python"
    }
  },
  "nbformat_minor": 4,
  "nbformat": 4,
  "cells": [
    {
      "cell_type": "markdown",
      "source": "# Data Science Tools and Ecosystem",
      "metadata": {}
    },
    {
      "cell_type": "markdown",
      "source": "## Author \nMuhammad Nadeem ",
      "metadata": {}
    },
    {
      "cell_type": "markdown",
      "source": "In this notebook, Data Science Tools and Ecosystem are summarized",
      "metadata": {}
    },
    {
      "cell_type": "markdown",
      "source": "**Objectives:**\n- To learn about popular languages used by Data Scienctists \n- To learn about different libraries and ecosystems used by Data Scientists\n- To learn about popular Open Source libraries \n- To learn about Python and R and how they make Data Scientists job easy\n- To learn about how to create and use Python Jupyter Notebooks \n- To learn about working in notebooks, writing Markdown and Code in Notebooks\n- Using Online platform like JupyterLite,JupyterLab and Google Codelab etc",
      "metadata": {}
    },
    {
      "cell_type": "markdown",
      "source": "Some of the popular languages used by Data Scientists are \n1. Python \n2. R\n3. SQL\n4. Scala\n5. C/C++",
      "metadata": {}
    },
    {
      "cell_type": "markdown",
      "source": "Some commonly used Data Science libraries are as follows \n1. Numpy\n2. Pandas\n3. Matplotlib\n4. Scipy\n5. Seaborn\n6. ggplot2\n7. Knitr\n8. caret\n9. Tidyverse\n10. Mlr ",
      "metadata": {}
    },
    {
      "cell_type": "markdown",
      "source": "| Data Science Tools |\n|--------------------|\n| RStudio|\n| Apache Spark |\n| Rapid Miner |",
      "metadata": {}
    },
    {
      "cell_type": "markdown",
      "source": "### Below are few lines of evaluating arithmetic expression in python",
      "metadata": {}
    },
    {
      "cell_type": "code",
      "source": "# A simple arithmetic expression to multiply and then add integers\n(3*4)+5",
      "metadata": {
        "trusted": true
      },
      "execution_count": 3,
      "outputs": [
        {
          "execution_count": 3,
          "output_type": "execute_result",
          "data": {
            "text/plain": "17"
          },
          "metadata": {}
        }
      ]
    },
    {
      "cell_type": "code",
      "source": "# This will convert 200 minutes to hours by dividing by 60\n200/60",
      "metadata": {
        "trusted": true
      },
      "execution_count": 4,
      "outputs": [
        {
          "execution_count": 4,
          "output_type": "execute_result",
          "data": {
            "text/plain": "3.3333333333333335"
          },
          "metadata": {}
        }
      ]
    },
    {
      "cell_type": "code",
      "source": "",
      "metadata": {},
      "execution_count": null,
      "outputs": []
    }
  ]
}